{
 "cells": [
  {
   "cell_type": "code",
   "execution_count": 1,
   "id": "c934ee1f",
   "metadata": {},
   "outputs": [],
   "source": [
    "import pandas as pd\n",
    "import numpy as np\n",
    "import pandas_datareader as pdr\n",
    "import scipy.optimize as spo\n",
    "from functools import reduce\n",
    "import pandas_datareader.data as web # make sure to have the newest pandas-datareader module installed\n",
    "import datetime\n",
    "import matplotlib.pyplot as plt\n",
    "from scipy import stats\n",
    "import scipy.linalg as lg\n",
    "%matplotlib inline  \n",
    "plt.rcParams['figure.dpi'] = 120\n",
    "plt.rcParams['figure.figsize'] = [8,4]\n",
    "\n",
    "plt.rcParams['axes.grid'] = True\n",
    "# to avoid some stupid error\n",
    "import yfinance as yfin\n",
    "yfin.pdr_override()"
   ]
  },
  {
   "cell_type": "code",
   "execution_count": 2,
   "id": "e43f1b05",
   "metadata": {},
   "outputs": [
    {
     "name": "stderr",
     "output_type": "stream",
     "text": [
      "[*********************100%%**********************]  1 of 1 completed\n"
     ]
    }
   ],
   "source": [
    "#Wczytywanie danych\n",
    "start = datetime.datetime(2018, 12, 30)\n",
    "end =   datetime.datetime(2022, 12, 30)\n",
    "df = web.DataReader(\"GLD\", start, end)"
   ]
  },
  {
   "cell_type": "code",
   "execution_count": 3,
   "id": "e61dc76a",
   "metadata": {},
   "outputs": [
    {
     "data": {
      "text/html": [
       "<div>\n",
       "<style scoped>\n",
       "    .dataframe tbody tr th:only-of-type {\n",
       "        vertical-align: middle;\n",
       "    }\n",
       "\n",
       "    .dataframe tbody tr th {\n",
       "        vertical-align: top;\n",
       "    }\n",
       "\n",
       "    .dataframe thead th {\n",
       "        text-align: right;\n",
       "    }\n",
       "</style>\n",
       "<table border=\"1\" class=\"dataframe\">\n",
       "  <thead>\n",
       "    <tr style=\"text-align: right;\">\n",
       "      <th></th>\n",
       "      <th>Open</th>\n",
       "      <th>High</th>\n",
       "      <th>Low</th>\n",
       "      <th>Close</th>\n",
       "      <th>Adj Close</th>\n",
       "      <th>Volume</th>\n",
       "    </tr>\n",
       "    <tr>\n",
       "      <th>Date</th>\n",
       "      <th></th>\n",
       "      <th></th>\n",
       "      <th></th>\n",
       "      <th></th>\n",
       "      <th></th>\n",
       "      <th></th>\n",
       "    </tr>\n",
       "  </thead>\n",
       "  <tbody>\n",
       "    <tr>\n",
       "      <th>2018-12-31</th>\n",
       "      <td>120.980003</td>\n",
       "      <td>121.260002</td>\n",
       "      <td>120.830002</td>\n",
       "      <td>121.250000</td>\n",
       "      <td>121.250000</td>\n",
       "      <td>8449400</td>\n",
       "    </tr>\n",
       "    <tr>\n",
       "      <th>2019-01-02</th>\n",
       "      <td>121.349998</td>\n",
       "      <td>121.750000</td>\n",
       "      <td>120.879997</td>\n",
       "      <td>121.330002</td>\n",
       "      <td>121.330002</td>\n",
       "      <td>12776200</td>\n",
       "    </tr>\n",
       "    <tr>\n",
       "      <th>2019-01-03</th>\n",
       "      <td>121.779999</td>\n",
       "      <td>122.459999</td>\n",
       "      <td>121.730003</td>\n",
       "      <td>122.430000</td>\n",
       "      <td>122.430000</td>\n",
       "      <td>15440800</td>\n",
       "    </tr>\n",
       "    <tr>\n",
       "      <th>2019-01-04</th>\n",
       "      <td>121.320000</td>\n",
       "      <td>121.599998</td>\n",
       "      <td>120.690002</td>\n",
       "      <td>121.440002</td>\n",
       "      <td>121.440002</td>\n",
       "      <td>13334000</td>\n",
       "    </tr>\n",
       "    <tr>\n",
       "      <th>2019-01-07</th>\n",
       "      <td>122.160004</td>\n",
       "      <td>122.220001</td>\n",
       "      <td>121.570000</td>\n",
       "      <td>121.860001</td>\n",
       "      <td>121.860001</td>\n",
       "      <td>7473600</td>\n",
       "    </tr>\n",
       "    <tr>\n",
       "      <th>...</th>\n",
       "      <td>...</td>\n",
       "      <td>...</td>\n",
       "      <td>...</td>\n",
       "      <td>...</td>\n",
       "      <td>...</td>\n",
       "      <td>...</td>\n",
       "    </tr>\n",
       "    <tr>\n",
       "      <th>2022-12-22</th>\n",
       "      <td>167.759995</td>\n",
       "      <td>167.759995</td>\n",
       "      <td>166.059998</td>\n",
       "      <td>166.759995</td>\n",
       "      <td>166.759995</td>\n",
       "      <td>5672700</td>\n",
       "    </tr>\n",
       "    <tr>\n",
       "      <th>2022-12-23</th>\n",
       "      <td>166.880005</td>\n",
       "      <td>167.800003</td>\n",
       "      <td>166.660004</td>\n",
       "      <td>167.259995</td>\n",
       "      <td>167.259995</td>\n",
       "      <td>2912300</td>\n",
       "    </tr>\n",
       "    <tr>\n",
       "      <th>2022-12-27</th>\n",
       "      <td>167.889999</td>\n",
       "      <td>170.610001</td>\n",
       "      <td>167.800003</td>\n",
       "      <td>168.669998</td>\n",
       "      <td>168.669998</td>\n",
       "      <td>6885700</td>\n",
       "    </tr>\n",
       "    <tr>\n",
       "      <th>2022-12-28</th>\n",
       "      <td>168.050003</td>\n",
       "      <td>168.339996</td>\n",
       "      <td>167.100006</td>\n",
       "      <td>167.910004</td>\n",
       "      <td>167.910004</td>\n",
       "      <td>3662500</td>\n",
       "    </tr>\n",
       "    <tr>\n",
       "      <th>2022-12-29</th>\n",
       "      <td>168.539993</td>\n",
       "      <td>169.350006</td>\n",
       "      <td>168.520004</td>\n",
       "      <td>168.850006</td>\n",
       "      <td>168.850006</td>\n",
       "      <td>3345900</td>\n",
       "    </tr>\n",
       "  </tbody>\n",
       "</table>\n",
       "<p>1008 rows × 6 columns</p>\n",
       "</div>"
      ],
      "text/plain": [
       "                  Open        High         Low       Close   Adj Close  \\\n",
       "Date                                                                     \n",
       "2018-12-31  120.980003  121.260002  120.830002  121.250000  121.250000   \n",
       "2019-01-02  121.349998  121.750000  120.879997  121.330002  121.330002   \n",
       "2019-01-03  121.779999  122.459999  121.730003  122.430000  122.430000   \n",
       "2019-01-04  121.320000  121.599998  120.690002  121.440002  121.440002   \n",
       "2019-01-07  122.160004  122.220001  121.570000  121.860001  121.860001   \n",
       "...                ...         ...         ...         ...         ...   \n",
       "2022-12-22  167.759995  167.759995  166.059998  166.759995  166.759995   \n",
       "2022-12-23  166.880005  167.800003  166.660004  167.259995  167.259995   \n",
       "2022-12-27  167.889999  170.610001  167.800003  168.669998  168.669998   \n",
       "2022-12-28  168.050003  168.339996  167.100006  167.910004  167.910004   \n",
       "2022-12-29  168.539993  169.350006  168.520004  168.850006  168.850006   \n",
       "\n",
       "              Volume  \n",
       "Date                  \n",
       "2018-12-31   8449400  \n",
       "2019-01-02  12776200  \n",
       "2019-01-03  15440800  \n",
       "2019-01-04  13334000  \n",
       "2019-01-07   7473600  \n",
       "...              ...  \n",
       "2022-12-22   5672700  \n",
       "2022-12-23   2912300  \n",
       "2022-12-27   6885700  \n",
       "2022-12-28   3662500  \n",
       "2022-12-29   3345900  \n",
       "\n",
       "[1008 rows x 6 columns]"
      ]
     },
     "execution_count": 3,
     "metadata": {},
     "output_type": "execute_result"
    }
   ],
   "source": [
    "df\n"
   ]
  },
  {
   "cell_type": "code",
   "execution_count": 4,
   "id": "2e1bd80a",
   "metadata": {},
   "outputs": [
    {
     "data": {
      "text/plain": [
       "[<matplotlib.lines.Line2D at 0x1b9b6144390>]"
      ]
     },
     "execution_count": 4,
     "metadata": {},
     "output_type": "execute_result"
    },
    {
     "data": {
      "image/png": "[encoded data removed]",
      "text/plain": [
       "<Figure size 960x480 with 1 Axes>"
      ]
     },
     "metadata": {},
     "output_type": "display_data"
    }
   ],
   "source": [
    "adj_close=df['Adj Close']\n",
    "adj_close_norm=adj_close\n",
    "\n",
    "plt.plot(adj_close_norm)"
   ]
  },
  {
   "cell_type": "code",
   "execution_count": 5,
   "id": "4c6266b2",
   "metadata": {},
   "outputs": [
    {
     "data": {
      "text/plain": [
       "168.85000610351562"
      ]
     },
     "execution_count": 5,
     "metadata": {},
     "output_type": "execute_result"
    }
   ],
   "source": [
    "adj_close[-1]"
   ]
  },
  {
   "cell_type": "code",
   "execution_count": 6,
   "id": "87420b18",
   "metadata": {},
   "outputs": [
    {
     "name": "stdout",
     "output_type": "stream",
     "text": [
      "analysis for: 0.000375 ± 0.009634\n"
     ]
    },
    {
     "data": {
      "image/png": "[encoded data removed]",
      "text/plain": [
       "<Figure size 960x480 with 1 Axes>"
      ]
     },
     "metadata": {},
     "output_type": "display_data"
    }
   ],
   "source": [
    "returns = adj_close_norm.pct_change()\n",
    "plt.hist(returns, bins=100);\n",
    "mean=np.mean(returns)\n",
    "var=np.var(returns)\n",
    "print(f'analysis for: {mean:.6f} ± {np.sqrt(var):.6f}')"
   ]
  },
  {
   "cell_type": "code",
   "execution_count": 7,
   "id": "e63a18e4",
   "metadata": {},
   "outputs": [
    {
     "data": {
      "text/html": [
       "<div>\n",
       "<style scoped>\n",
       "    .dataframe tbody tr th:only-of-type {\n",
       "        vertical-align: middle;\n",
       "    }\n",
       "\n",
       "    .dataframe tbody tr th {\n",
       "        vertical-align: top;\n",
       "    }\n",
       "\n",
       "    .dataframe thead th {\n",
       "        text-align: right;\n",
       "    }\n",
       "</style>\n",
       "<table border=\"1\" class=\"dataframe\">\n",
       "  <thead>\n",
       "    <tr style=\"text-align: right;\">\n",
       "      <th></th>\n",
       "      <th>DGS10</th>\n",
       "    </tr>\n",
       "    <tr>\n",
       "      <th>DATE</th>\n",
       "      <th></th>\n",
       "    </tr>\n",
       "  </thead>\n",
       "  <tbody>\n",
       "    <tr>\n",
       "      <th>2022-12-28</th>\n",
       "      <td>3.88</td>\n",
       "    </tr>\n",
       "    <tr>\n",
       "      <th>2022-12-29</th>\n",
       "      <td>3.83</td>\n",
       "    </tr>\n",
       "    <tr>\n",
       "      <th>2022-12-30</th>\n",
       "      <td>3.88</td>\n",
       "    </tr>\n",
       "    <tr>\n",
       "      <th>2023-01-02</th>\n",
       "      <td>NaN</td>\n",
       "    </tr>\n",
       "    <tr>\n",
       "      <th>2023-01-03</th>\n",
       "      <td>3.79</td>\n",
       "    </tr>\n",
       "    <tr>\n",
       "      <th>...</th>\n",
       "      <td>...</td>\n",
       "    </tr>\n",
       "    <tr>\n",
       "      <th>2024-02-12</th>\n",
       "      <td>4.17</td>\n",
       "    </tr>\n",
       "    <tr>\n",
       "      <th>2024-02-13</th>\n",
       "      <td>4.31</td>\n",
       "    </tr>\n",
       "    <tr>\n",
       "      <th>2024-02-14</th>\n",
       "      <td>4.27</td>\n",
       "    </tr>\n",
       "    <tr>\n",
       "      <th>2024-02-15</th>\n",
       "      <td>4.24</td>\n",
       "    </tr>\n",
       "    <tr>\n",
       "      <th>2024-02-16</th>\n",
       "      <td>4.30</td>\n",
       "    </tr>\n",
       "  </tbody>\n",
       "</table>\n",
       "<p>298 rows × 1 columns</p>\n",
       "</div>"
      ],
      "text/plain": [
       "            DGS10\n",
       "DATE             \n",
       "2022-12-28   3.88\n",
       "2022-12-29   3.83\n",
       "2022-12-30   3.88\n",
       "2023-01-02    NaN\n",
       "2023-01-03   3.79\n",
       "...           ...\n",
       "2024-02-12   4.17\n",
       "2024-02-13   4.31\n",
       "2024-02-14   4.27\n",
       "2024-02-15   4.24\n",
       "2024-02-16   4.30\n",
       "\n",
       "[298 rows x 1 columns]"
      ]
     },
     "execution_count": 7,
     "metadata": {},
     "output_type": "execute_result"
    }
   ],
   "source": [
    "rfr = pdr.DataReader(\"DGS10\", \"fred\", datetime.datetime(2022, 12, 28) )\n",
    "rfr\n"
   ]
  },
  {
   "cell_type": "code",
   "execution_count": 8,
   "id": "55467ac7",
   "metadata": {},
   "outputs": [
    {
     "name": "stdout",
     "output_type": "stream",
     "text": [
      "3.83\n"
     ]
    }
   ],
   "source": [
    "r_rel=rfr.loc[df.index[-1]][0]\n",
    "\n",
    "\n",
    "sigma=np.sqrt(var*250)\n",
    "print(r_rel)"
   ]
  },
  {
   "cell_type": "code",
   "execution_count": 9,
   "id": "8920421c",
   "metadata": {},
   "outputs": [],
   "source": [
    "def call(t,S,X,r,sigma,T):\n",
    "    d=(np.log(S/X)+(r+(sigma**2)/2)*(T-t))/(sigma*np.sqrt(T-t))\n",
    "    C= S*stats.norm.cdf(d)-X*np.exp(-r*(T-t))*stats.norm.cdf(d-sigma*np.sqrt(T-t))\n",
    "    return C"
   ]
  },
  {
   "cell_type": "code",
   "execution_count": 10,
   "id": "27afb9d5",
   "metadata": {},
   "outputs": [
    {
     "data": {
      "text/plain": [
       "8.406898207007004"
      ]
     },
     "execution_count": 10,
     "metadata": {},
     "output_type": "execute_result"
    }
   ],
   "source": [
    "\n",
    "call(0,169,180,r_rel/100,sigma,1)"
   ]
  },
  {
   "cell_type": "code",
   "execution_count": 11,
   "id": "292ca6bf",
   "metadata": {},
   "outputs": [],
   "source": [
    "#Monte Carlo\n",
    "#Black-Sholes model dS=S*mu*dt+S*sigma*dW\n",
    "\n",
    "mu=mean\n",
    "sigma=np.sqrt(var)\n",
    "\n",
    "dw=np.random.randn(100000,250)\n",
    "ds=np.log(1+mu+sigma*dw)\n",
    "cS=np.exp(np.cumsum(ds,axis=1))*169\n",
    "\n",
    "\n",
    "\n",
    "\n"
   ]
  },
  {
   "cell_type": "code",
   "execution_count": 12,
   "id": "bc73439e",
   "metadata": {},
   "outputs": [
    {
     "name": "stdout",
     "output_type": "stream",
     "text": [
      "13.627989519286869\n"
     ]
    }
   ],
   "source": [
    "cS.T[-1]\n",
    "call_mc=np.mean(np.maximum(cS.T[-1]-180,0))*np.exp(-r_rel/100)\n",
    "print(call_mc)"
   ]
  },
  {
   "cell_type": "code",
   "execution_count": null,
   "id": "d7dda999",
   "metadata": {},
   "outputs": [],
   "source": []
  },
  {
   "cell_type": "code",
   "execution_count": null,
   "id": "ffa422a9",
   "metadata": {},
   "outputs": [],
   "source": []
  },
  {
   "cell_type": "code",
   "execution_count": null,
   "id": "e1733e80",
   "metadata": {},
   "outputs": [],
   "source": []
  },
  {
   "cell_type": "code",
   "execution_count": null,
   "id": "8b5a849d",
   "metadata": {},
   "outputs": [],
   "source": []
  },
  {
   "cell_type": "code",
   "execution_count": null,
   "id": "df9cddef",
   "metadata": {},
   "outputs": [],
   "source": []
  },
  {
   "cell_type": "code",
   "execution_count": null,
   "id": "e189d499",
   "metadata": {},
   "outputs": [],
   "source": []
  },
  {
   "cell_type": "code",
   "execution_count": 13,
   "id": "6ca25350",
   "metadata": {},
   "outputs": [],
   "source": [
    "def M_1(lamb,x,sigma,h,r):\n",
    "    return -1*(lamb*x*x*sigma*sigma-h*lamb*x*r)/(4*h)\n",
    "#element n\n",
    "def M(lamb,x,sigma,h,r):\n",
    "    return 1+lamb*h*(r+x*x*sigma*sigma/(h*h))/2\n",
    "#element n+1\n",
    "def M_2(lamb,x,sigma,h,r):\n",
    "    return -1*(lamb*x*x*sigma*sigma+h*lamb*x*r)/(4*h)\n",
    "\n",
    "\n",
    "#Macierz B\n",
    "#element n-1\n",
    "def B_1(lamb,x,sigma,h,r):\n",
    "    return (lamb*x*x*sigma*sigma-h*lamb*x*r)/(4*h)\n",
    "#element n\n",
    "def B(lamb,x,sigma,h,r):\n",
    "    return 1-lamb*h*(r+x*x*sigma*sigma/(h*h))/2\n",
    "#element n+1\n",
    "def B_2(lamb,x,sigma,h,r):\n",
    "    return (lamb*x*x*sigma*sigma+h*lamb*x*r)/(4*h)\n",
    "\n",
    "\n",
    "def CN_BS(deltat,deltax,x_0,sigma,r,T):\n",
    "    h=deltax\n",
    "    lamb=deltat/h\n",
    "\n",
    "    \n",
    "\n",
    "    M_matrix = np.array([M_2(lamb,x_0,sigma,h,r), M(lamb,x_0,sigma,h,r), M_1(lamb,x_0,sigma,h,r)])\n",
    "     \n",
    "    M_matrix[1, 0] = 1  \n",
    "    M_matrix[0, 1] = 0  \n",
    "    M_matrix[1, -1] = 1 \n",
    "    M_matrix[2, -2] = 0 \n",
    "\n",
    "    \n",
    "    Bp=B_2(lamb,x_0,sigma,h,r)\n",
    "    B0=B(lamb,x_0,sigma,h,r)\n",
    "    Bm=B_1(lamb,x_0,sigma,h,r)\n",
    "    \n",
    "\n",
    "    \n",
    "    #tutaj wstaw rodzaj opcji\n",
    "    v_T=np.maximum(x_0-180,0)\n",
    "    \n",
    "    res = [v_T]\n",
    "    Bn = np.empty_like(v_T)\n",
    "    Bn[1:-1]=Bp[2:]*v_T[2:]+B0[1:-1]*v_T[1:-1]+Bm[:-2]*v_T[:-2]\n",
    "    Bn[0]=v_T[0]\n",
    "    Bn[-1]=v_T[-1]\n",
    "    for n in range(int(T/deltat)):\n",
    "        u = lg.solve_banded((1,1), M_matrix, Bn);\n",
    "        u[0]=0\n",
    "        u[-1]=x_0[-1]-180*np.exp(-r*(T-deltat*n))\n",
    "        Bn[1:-1]=Bp[2:]*u[2:]+B0[1:-1]*u[1:-1]+Bm[:-2]*u[:-2]\n",
    "        Bn[0]=u[0]\n",
    "        Bn[-1]=u[-1]\n",
    "        res.append(u)\n",
    "    return np.array(res).T\n"
   ]
  },
  {
   "cell_type": "code",
   "execution_count": 14,
   "id": "3dfa8ee3",
   "metadata": {},
   "outputs": [
    {
     "name": "stdout",
     "output_type": "stream",
     "text": [
      "13.434173866330774\n"
     ]
    }
   ],
   "source": [
    "deltat=1/250\n",
    "deltax=1\n",
    "sigma=np.sqrt(var*250)\n",
    "r=r_rel/100\n",
    "T=1\n",
    "x_0=np.linspace(0,400,401)\n",
    "h=deltax\n",
    "lamb=deltat/h\n",
    "\n",
    "wynik = CN_BS(deltat,deltax,x_0,sigma,r,T)\n",
    "s=wynik.T\n",
    "\n",
    "    \n",
    "print(s[-1][169])"
   ]
  },
  {
   "cell_type": "code",
   "execution_count": null,
   "id": "ec4c8e68",
   "metadata": {},
   "outputs": [],
   "source": []
  },
  {
   "cell_type": "code",
   "execution_count": 15,
   "id": "0476aa6c",
   "metadata": {},
   "outputs": [
    {
     "data": {
      "text/plain": [
       "[<matplotlib.lines.Line2D at 0x1b9b6c2b950>]"
      ]
     },
     "execution_count": 15,
     "metadata": {},
     "output_type": "execute_result"
    },
    {
     "data": {
      "image/png": "[encoded data removed]",
      "text/plain": [
       "<Figure size 960x480 with 1 Axes>"
      ]
     },
     "metadata": {},
     "output_type": "display_data"
    }
   ],
   "source": [
    "plt.plot(np.linspace(100,250,151),s[-1][100:251])"
   ]
  },
  {
   "cell_type": "code",
   "execution_count": 16,
   "id": "7894a327",
   "metadata": {},
   "outputs": [],
   "source": [
    "#MC barrier option up-and-out\n",
    "mu=mean\n",
    "sigma=np.sqrt(var)\n",
    "\n",
    "dw=np.random.randn(100000,250)\n",
    "ds=np.log(1+mu+sigma*dw)\n",
    "cS=np.exp(np.cumsum(ds,axis=1))*169"
   ]
  },
  {
   "cell_type": "code",
   "execution_count": 17,
   "id": "fc03614f",
   "metadata": {},
   "outputs": [],
   "source": [
    "for i in range(100000):\n",
    "    if(np.max(cS[i])>190):\n",
    "        cS[i][-1]=0"
   ]
  },
  {
   "cell_type": "code",
   "execution_count": 18,
   "id": "75319708",
   "metadata": {},
   "outputs": [
    {
     "name": "stdout",
     "output_type": "stream",
     "text": [
      "0.14166299491294507\n"
     ]
    }
   ],
   "source": [
    "call_uao_mc=np.mean(np.maximum(cS.T[-1]-180,0))*np.exp(-r_rel/100)\n",
    "print(call_uao_mc)"
   ]
  },
  {
   "cell_type": "code",
   "execution_count": 19,
   "id": "fb3f64d5",
   "metadata": {},
   "outputs": [],
   "source": [
    "def M_1(lamb,x,sigma,h,r):\n",
    "    return -1*(lamb*x*x*sigma*sigma-h*lamb*x*r)/(4*h)\n",
    "#element n\n",
    "def M(lamb,x,sigma,h,r):\n",
    "    return 1+lamb*h*(r+x*x*sigma*sigma/(h*h))/2\n",
    "#element n+1\n",
    "def M_2(lamb,x,sigma,h,r):\n",
    "    return -1*(lamb*x*x*sigma*sigma+h*lamb*x*r)/(4*h)\n",
    "\n",
    "\n",
    "#Macierz B\n",
    "#element n-1\n",
    "def B_1(lamb,x,sigma,h,r):\n",
    "    return (lamb*x*x*sigma*sigma-h*lamb*x*r)/(4*h)\n",
    "#element n\n",
    "def B(lamb,x,sigma,h,r):\n",
    "    return 1-lamb*h*(r+x*x*sigma*sigma/(h*h))/2\n",
    "#element n+1\n",
    "def B_2(lamb,x,sigma,h,r):\n",
    "    return (lamb*x*x*sigma*sigma+h*lamb*x*r)/(4*h)\n",
    "\n",
    "\n",
    "def CN_BS_uao(deltat,deltax,x_0,sigma,r,T):\n",
    "    h=deltax\n",
    "    lamb=deltat/h\n",
    "\n",
    "    \n",
    "\n",
    "    M_matrix = np.array([M_2(lamb,x_0,sigma,h,r), M(lamb,x_0,sigma,h,r), M_1(lamb,x_0,sigma,h,r)])\n",
    "     \n",
    "    M_matrix[1, 0] = 1  \n",
    "    M_matrix[0, 1] = 0  \n",
    "    M_matrix[1, -1] = 1 \n",
    "    M_matrix[2, -2] = 0 \n",
    "\n",
    "    \n",
    "    Bp=B_2(lamb,x_0,sigma,h,r)\n",
    "    B0=B(lamb,x_0,sigma,h,r)\n",
    "    Bm=B_1(lamb,x_0,sigma,h,r)\n",
    "    \n",
    "\n",
    "    \n",
    "    #tutaj wstaw rodzaj opcji\n",
    "    v_T=np.maximum(x_0-180,0)\n",
    "    \n",
    "    res = [v_T]\n",
    "    Bn = np.empty_like(v_T)\n",
    "    Bn[1:-1]=Bp[2:]*v_T[2:]+B0[1:-1]*v_T[1:-1]+Bm[:-2]*v_T[:-2]\n",
    "    Bn[0]=v_T[0]\n",
    "    Bn[-1]=v_T[-1]\n",
    "    for n in range(int(T/deltat)):\n",
    "        u = lg.solve_banded((1,1), M_matrix, Bn);\n",
    "        u[0]=0\n",
    "        #u[-1]=x_0[-1]-180*np.exp(-r*(T-deltat*n))\n",
    "        u[190:]=0\n",
    "        Bn[1:-1]=Bp[2:]*u[2:]+B0[1:-1]*u[1:-1]+Bm[:-2]*u[:-2]\n",
    "        Bn[0]=u[0]\n",
    "        Bn[-1]=u[-1]\n",
    "        res.append(u)\n",
    "    return np.array(res).T\n"
   ]
  },
  {
   "cell_type": "code",
   "execution_count": 20,
   "id": "cf1174bb",
   "metadata": {},
   "outputs": [
    {
     "name": "stdout",
     "output_type": "stream",
     "text": [
      "0.14251976014131604\n"
     ]
    },
    {
     "data": {
      "text/plain": [
       "[<matplotlib.lines.Line2D at 0x1b9b763bd10>]"
      ]
     },
     "execution_count": 20,
     "metadata": {},
     "output_type": "execute_result"
    },
    {
     "data": {
      "image/png": "[encoded data removed]",
      "text/plain": [
       "<Figure size 960x480 with 1 Axes>"
      ]
     },
     "metadata": {},
     "output_type": "display_data"
    }
   ],
   "source": [
    "deltat=1/250\n",
    "deltax=1\n",
    "sigma=np.sqrt(var*250)\n",
    "r=r_rel/100\n",
    "T=1\n",
    "x_0=np.linspace(0,400,401)\n",
    "h=deltax\n",
    "lamb=deltat/h\n",
    "\n",
    "wynik = CN_BS_uao(deltat,deltax,x_0,sigma,r,T)\n",
    "s=wynik.T\n",
    "\n",
    "print(s[-1][169])   \n",
    "plt.plot(np.linspace(100,250,151),s[-1][100:251])"
   ]
  },
  {
   "cell_type": "code",
   "execution_count": 21,
   "id": "618efe78",
   "metadata": {},
   "outputs": [],
   "source": [
    "#MC barrier option down-and-in\n",
    "mu=mean\n",
    "sigma=np.sqrt(var)\n",
    "\n",
    "dw=np.random.randn(100000,250)\n",
    "ds=np.log(1+mu+sigma*dw)\n",
    "cS=np.exp(np.cumsum(ds,axis=1))*169"
   ]
  },
  {
   "cell_type": "code",
   "execution_count": 22,
   "id": "3e3a93dd",
   "metadata": {},
   "outputs": [],
   "source": [
    "for i in range(100000):\n",
    "    if(np.min(cS[i])>165):\n",
    "        cS[i][-1]=0"
   ]
  },
  {
   "cell_type": "code",
   "execution_count": 23,
   "id": "378b31c3",
   "metadata": {},
   "outputs": [
    {
     "name": "stdout",
     "output_type": "stream",
     "text": [
      "6.56625804510044\n"
     ]
    }
   ],
   "source": [
    "call_dai_mc=np.mean(np.maximum(cS.T[-1]-180,0))*np.exp(-r_rel/100)\n",
    "print(call_dai_mc)"
   ]
  },
  {
   "cell_type": "code",
   "execution_count": 24,
   "id": "c3888236",
   "metadata": {},
   "outputs": [],
   "source": [
    "def M_1(lamb,x,sigma,h,r):\n",
    "    return -1*(lamb*x*x*sigma*sigma-h*lamb*x*r)/(4*h)\n",
    "#element n\n",
    "def M(lamb,x,sigma,h,r):\n",
    "    return 1+lamb*h*(r+x*x*sigma*sigma/(h*h))/2\n",
    "#element n+1\n",
    "def M_2(lamb,x,sigma,h,r):\n",
    "    return -1*(lamb*x*x*sigma*sigma+h*lamb*x*r)/(4*h)\n",
    "\n",
    "\n",
    "#Macierz B\n",
    "#element n-1\n",
    "def B_1(lamb,x,sigma,h,r):\n",
    "    return (lamb*x*x*sigma*sigma-h*lamb*x*r)/(4*h)\n",
    "#element n\n",
    "def B(lamb,x,sigma,h,r):\n",
    "    return 1-lamb*h*(r+x*x*sigma*sigma/(h*h))/2\n",
    "#element n+1\n",
    "def B_2(lamb,x,sigma,h,r):\n",
    "    return (lamb*x*x*sigma*sigma+h*lamb*x*r)/(4*h)\n",
    "\n",
    "def CN_BS(deltat,deltax,x_0,sigma,r,T):\n",
    "    h=deltax\n",
    "    lamb=deltat/h\n",
    "\n",
    "    \n",
    "\n",
    "    M_matrix = np.array([M_2(lamb,x_0,sigma,h,r), M(lamb,x_0,sigma,h,r), M_1(lamb,x_0,sigma,h,r)])\n",
    "     \n",
    "    M_matrix[1, 0] = 1  \n",
    "    M_matrix[0, 1] = 0  \n",
    "    M_matrix[1, -1] = 1 \n",
    "    M_matrix[2, -2] = 0 \n",
    "\n",
    "    \n",
    "    Bp=B_2(lamb,x_0,sigma,h,r)\n",
    "    B0=B(lamb,x_0,sigma,h,r)\n",
    "    Bm=B_1(lamb,x_0,sigma,h,r)\n",
    "    \n",
    "\n",
    "    \n",
    "    #tutaj wstaw rodzaj opcji\n",
    "    v_T=np.maximum(x_0-180,0)\n",
    "    \n",
    "    res = [v_T]\n",
    "    Bn = np.empty_like(v_T)\n",
    "    Bn[1:-1]=Bp[2:]*v_T[2:]+B0[1:-1]*v_T[1:-1]+Bm[:-2]*v_T[:-2]\n",
    "    Bn[0]=v_T[0]\n",
    "    Bn[-1]=v_T[-1]\n",
    "    for n in range(int(T/deltat)):\n",
    "        u = lg.solve_banded((1,1), M_matrix, Bn);\n",
    "        u[0]=0\n",
    "        u[-1]=x_0[-1]-180*np.exp(-r*(T-deltat*n))\n",
    "        Bn[1:-1]=Bp[2:]*u[2:]+B0[1:-1]*u[1:-1]+Bm[:-2]*u[:-2]\n",
    "        Bn[0]=u[0]\n",
    "        Bn[-1]=u[-1]\n",
    "        res.append(u)\n",
    "    return np.array(res).T\n",
    "def CN_BS_dai(deltat,deltax,x_0,sigma,r,T):\n",
    "    h=deltax\n",
    "    lamb=deltat/h\n",
    "\n",
    "    wynik = CN_BS(deltat,deltax,x_0,sigma,r,T)\n",
    "    s=wynik.T\n",
    "\n",
    "    M_matrix = np.array([M_2(lamb,x_0,sigma,h,r), M(lamb,x_0,sigma,h,r), M_1(lamb,x_0,sigma,h,r)])\n",
    "     \n",
    "    M_matrix[1, 0] = 1  \n",
    "    M_matrix[0, 1] = 0  \n",
    "    M_matrix[1, -1] = 1 \n",
    "    M_matrix[2, -2] = 0 \n",
    "\n",
    "    \n",
    "    Bp=B_2(lamb,x_0,sigma,h,r)\n",
    "    B0=B(lamb,x_0,sigma,h,r)\n",
    "    Bm=B_1(lamb,x_0,sigma,h,r)\n",
    "    \n",
    "\n",
    "    \n",
    "    #tutaj wstaw rodzaj opcji\n",
    "    #v_T=np.maximum(x_0-180,0)\n",
    "    v_T=np.zeros_like(x_0)\n",
    "    \n",
    "    \n",
    "    res = [v_T]\n",
    "    Bn = np.empty_like(v_T)\n",
    "    Bn[1:-1]=Bp[2:]*v_T[2:]+B0[1:-1]*v_T[1:-1]+Bm[:-2]*v_T[:-2]\n",
    "    Bn[0]=v_T[0]\n",
    "    Bn[-1]=v_T[-1]\n",
    "    for n in range(int(T/deltat)):\n",
    "        u = lg.solve_banded((1,1), M_matrix, Bn);\n",
    "        u[0]=0\n",
    "        u[-1]=0\n",
    "        u[:165]=s[n+1][:165]\n",
    "        Bn[1:-1]=Bp[2:]*u[2:]+B0[1:-1]*u[1:-1]+Bm[:-2]*u[:-2]\n",
    "        Bn[0]=u[0]\n",
    "        Bn[-1]=u[-1]\n",
    "        res.append(u)\n",
    "    return np.array(res).T"
   ]
  },
  {
   "cell_type": "code",
   "execution_count": null,
   "id": "9fe8aafa",
   "metadata": {},
   "outputs": [],
   "source": []
  },
  {
   "cell_type": "code",
   "execution_count": 28,
   "id": "870645bf",
   "metadata": {},
   "outputs": [
    {
     "name": "stdout",
     "output_type": "stream",
     "text": [
      "6.062896039384492\n"
     ]
    },
    {
     "data": {
      "text/plain": [
       "[<matplotlib.lines.Line2D at 0x1b9d0e94a90>]"
      ]
     },
     "execution_count": 28,
     "metadata": {},
     "output_type": "execute_result"
    },
    {
     "data": {
      "image/png": "[encoded data removed]",
      "text/plain": [
       "<Figure size 960x480 with 1 Axes>"
      ]
     },
     "metadata": {},
     "output_type": "display_data"
    }
   ],
   "source": [
    "deltat=1/250\n",
    "deltax=1\n",
    "sigma=np.sqrt(var*250)\n",
    "r=r_rel/100\n",
    "T=1\n",
    "x_0=np.linspace(0,400,401)\n",
    "h=deltax\n",
    "lamb=deltat/h\n",
    "\n",
    "wynik = CN_BS_dai(deltat,deltax,x_0,sigma,r,T)\n",
    "s=wynik.T\n",
    "\n",
    "print(s[-1][169])   \n",
    "plt.plot(np.linspace(100,250,151),s[-1][100:251])"
   ]
  },
  {
   "cell_type": "code",
   "execution_count": null,
   "id": "e9f6863a",
   "metadata": {},
   "outputs": [],
   "source": []
  },
  {
   "cell_type": "code",
   "execution_count": null,
   "id": "4bde1152",
   "metadata": {},
   "outputs": [],
   "source": []
  }
 ],
 "metadata": {
  "kernelspec": {
   "display_name": "Python 3 (ipykernel)",
   "language": "python",
   "name": "python3"
  },
  "language_info": {
   "codemirror_mode": {
    "name": "ipython",
    "version": 3
   },
   "file_extension": ".py",
   "mimetype": "text/x-python",
   "name": "python",
   "nbconvert_exporter": "python",
   "pygments_lexer": "ipython3",
   "version": "3.9.18"
  }
 },
 "nbformat": 4,
 "nbformat_minor": 5
}
